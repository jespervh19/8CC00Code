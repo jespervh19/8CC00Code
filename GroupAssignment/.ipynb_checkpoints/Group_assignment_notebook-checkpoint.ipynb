{
 "cells": [
  {
   "cell_type": "markdown",
   "metadata": {},
   "source": [
    "## Import Libraries"
   ]
  },
  {
   "cell_type": "code",
   "execution_count": 1,
   "metadata": {},
   "outputs": [],
   "source": [
    "import importlib\n",
    "import os\n",
    "from sklearn.model_selection import train_test_split\n",
    "import pandas as pd \n",
    "\n",
    "try:\n",
    "    importlib.reload(dataloader)\n",
    "    importlib.reload(model)\n",
    "    importlib.reload(analysis)\n",
    "except:\n",
    "    import dataloader\n",
    "    import model\n",
    "    import analysis"
   ]
  },
  {
   "cell_type": "markdown",
   "metadata": {},
   "source": [
    "## Load Data"
   ]
  },
  {
   "cell_type": "code",
   "execution_count": 2,
   "metadata": {},
   "outputs": [],
   "source": [
    "data = pd.read_csv(os.path.abspath(\"all_tested_molecules.csv\"))"
   ]
  },
  {
   "cell_type": "code",
   "execution_count": null,
   "metadata": {},
   "outputs": [],
   "source": [
    "descriptors = dataloader.get_molecular_descriptors(data, remove_fingerprints=False)\n",
    "descriptors.head()"
   ]
  },
  {
   "cell_type": "code",
   "execution_count": null,
   "metadata": {},
   "outputs": [],
   "source": [
    "labels = dataloader.get_labels(data)\n",
    "labels.head()"
   ]
  },
  {
   "cell_type": "markdown",
   "metadata": {},
   "source": [
    "## PCA Analysis"
   ]
  },
  {
   "cell_type": "code",
   "execution_count": null,
   "metadata": {
    "ExecuteTime": {
     "end_time": "2023-06-11T11:40:34.866139Z",
     "start_time": "2023-06-11T11:40:34.519693Z"
    }
   },
   "outputs": [],
   "source": [
    "descriptors = analysis.ScaleDescriptors(descriptors)"
   ]
  },
  {
   "cell_type": "code",
   "execution_count": null,
   "metadata": {
    "ExecuteTime": {
     "end_time": "2023-06-11T11:41:12.928957Z",
     "start_time": "2023-06-11T11:41:12.923952Z"
    }
   },
   "outputs": [],
   "source": [
    "highly_correlated_pairs = analysis.correlation(descriptors)"
   ]
  },
  {
   "cell_type": "code",
   "execution_count": null,
   "metadata": {
    "ExecuteTime": {
     "end_time": "2023-06-11T11:43:06.952882Z",
     "start_time": "2023-06-11T11:43:06.942067Z"
    }
   },
   "outputs": [],
   "source": [
    "descriptors = analysis.remove_colinear(descriptors, highly_correlated_pairs)"
   ]
  },
  {
   "cell_type": "code",
   "execution_count": null,
   "metadata": {
    "ExecuteTime": {
     "end_time": "2023-06-11T11:43:51.483585Z",
     "start_time": "2023-06-11T11:43:49.641261Z"
    }
   },
   "outputs": [],
   "source": [
    "num_components = analysis.plot_variance(descriptors, percentage=0.95)"
   ]
  },
  {
   "cell_type": "code",
   "execution_count": null,
   "metadata": {
    "ExecuteTime": {
     "end_time": "2023-06-11T12:00:37.267360Z",
     "start_time": "2023-06-11T12:00:36.485117Z"
    }
   },
   "outputs": [],
   "source": [
    "analysis.plot_loadings(descriptors, labels, num_components)"
   ]
  },
  {
   "cell_type": "code",
   "execution_count": null,
   "metadata": {
    "ExecuteTime": {
     "end_time": "2023-06-11T11:59:14.288149Z",
     "start_time": "2023-06-11T11:59:14.203831Z"
    }
   },
   "outputs": [],
   "source": [
    "feature_rankings = analysis.feature_rankings(descriptors, num_components)\n",
    "feature_rankings"
   ]
  },
  {
   "cell_type": "markdown",
   "metadata": {},
   "source": [
    "## PCA Selected Descriptors"
   ]
  },
  {
   "cell_type": "code",
   "execution_count": null,
   "metadata": {},
   "outputs": [],
   "source": [
    "selected_descriptors = list(feature_rankings[feature_rankings>0.07].index)\n",
    "selected_descriptors"
   ]
  },
  {
   "cell_type": "code",
   "execution_count": null,
   "metadata": {},
   "outputs": [],
   "source": [
    "num_components_selected = analysis.plot_variance(descriptors[selected_descriptors], percentage=0.9)"
   ]
  },
  {
   "cell_type": "code",
   "execution_count": null,
   "metadata": {},
   "outputs": [],
   "source": [
    "analysis.plot_loadings(descriptors[selected_descriptors], labels, num_components_selected)"
   ]
  },
  {
   "cell_type": "markdown",
   "metadata": {},
   "source": [
    "## PCA Literature"
   ]
  },
  {
   "cell_type": "code",
   "execution_count": null,
   "metadata": {},
   "outputs": [],
   "source": [
    "\n"
   ]
  },
  {
   "cell_type": "code",
   "execution_count": null,
   "metadata": {},
   "outputs": [],
   "source": [
    "literature_descriptors = descriptors.columns[:5].tolist()+descriptors.columns[19:20].tolist()+ descriptors.columns[28:42].tolist()+ descriptors.columns[52:64].tolist()+ descriptors.columns[93:96].tolist()+ descriptors.columns[101:102].tolist()\n",
    "a = literature_descriptors.count()\n",
    "print(a)    \n",
    "\n"
   ]
  },
  {
   "cell_type": "code",
   "execution_count": null,
   "metadata": {},
   "outputs": [],
   "source": [
    "num_components_literature = analysis.plot_variance(descriptors[literature_descriptors], percentage=0.95)"
   ]
  },
  {
   "cell_type": "code",
   "execution_count": null,
   "metadata": {},
   "outputs": [],
   "source": [
    "analysis.plot_loadings(descriptors[literature_descriptors], labels, num_components_selected)"
   ]
  },
  {
   "cell_type": "markdown",
   "metadata": {},
   "source": [
    "## Model training"
   ]
  },
  {
   "cell_type": "code",
   "execution_count": null,
   "metadata": {},
   "outputs": [],
   "source": [
    "#X_train, X_test, y_train, y_test = train_test_split(descriptors[selected_descriptors], labels, test_size=0.2, random_state=0)\n",
    "X_train, X_test, y_train, y_test = train_test_split(descriptors[literature_descriptors], labels, test_size=0.2, random_state=0)\n",
    "#X_train, X_test, y_train, y_test = train_test_split(descriptors, labels, test_size=0.2, random_state=0)"
   ]
  },
  {
   "cell_type": "code",
   "execution_count": null,
   "metadata": {},
   "outputs": [],
   "source": [
    "#pipeline = model.train(X_train, y_train, num_components_selected, degrees=[1,2], use_pca=[True, False])\n",
    "pipeline = model.train(X_train, y_train, num_components_literature, degrees=[1,2], use_pca=[True, False])\n",
    "#pipeline = model.train(X_train, y_train, num_components, degrees=[1,2], use_pca=[True, False])"
   ]
  },
  {
   "cell_type": "code",
   "execution_count": null,
   "metadata": {},
   "outputs": [],
   "source": [
    "accuracy = model.test(pipeline, X_test, y_test)"
   ]
  },
  {
   "cell_type": "markdown",
   "metadata": {},
   "source": [
    "## Predict new molecules"
   ]
  },
  {
   "cell_type": "code",
   "execution_count": null,
   "metadata": {},
   "outputs": [],
   "source": [
    "new_data = pd.read_csv(os.path.abspath(\"untested_molecules.csv\"))"
   ]
  },
  {
   "cell_type": "code",
   "execution_count": null,
   "metadata": {},
   "outputs": [],
   "source": [
    "new_descriptors = dataloader.get_molecular_descriptors(new_data, remove_fingerprints=False)\n",
    "new_descriptors.head()"
   ]
  },
  {
   "cell_type": "code",
   "execution_count": null,
   "metadata": {},
   "outputs": [],
   "source": [
    "new_descriptors = analysis.remove_colinear(new_descriptors, highly_correlated_pairs)"
   ]
  },
  {
   "cell_type": "code",
   "execution_count": null,
   "metadata": {},
   "outputs": [],
   "source": [
    "new_labels = dataloader.get_labels(new_data)\n",
    "new_labels.head()"
   ]
  },
  {
   "cell_type": "code",
   "execution_count": null,
   "metadata": {},
   "outputs": [],
   "source": [
    "#new_labels = model.predict(pipeline, new_descriptors[selected_descriptors], new_labels)\n",
    "new_labels = model.predict(pipeline, new_descriptors[literature_descriptors], new_labels)\n",
    "#new_labels = model.predict(pipeline, new_descriptors, new_labels)"
   ]
  },
  {
   "cell_type": "code",
   "execution_count": null,
   "metadata": {},
   "outputs": [],
   "source": [
    "new_labels.head(100)"
   ]
  },
  {
   "cell_type": "code",
   "execution_count": null,
   "metadata": {},
   "outputs": [],
   "source": [
    "new_labels.head(100).to_csv(\"predicted_molecules.csv\", index=False)"
   ]
  },
  {
   "cell_type": "code",
   "execution_count": null,
   "metadata": {},
   "outputs": [],
   "source": []
  },
  {
   "cell_type": "code",
   "execution_count": null,
   "metadata": {},
   "outputs": [],
   "source": []
  },
  {
   "cell_type": "code",
   "execution_count": null,
   "metadata": {},
   "outputs": [],
   "source": []
  }
 ],
 "metadata": {
  "kernelspec": {
   "display_name": "Python 3",
   "language": "python",
   "name": "python3"
  },
  "language_info": {
   "codemirror_mode": {
    "name": "ipython",
    "version": 3
   },
   "file_extension": ".py",
   "mimetype": "text/x-python",
   "name": "python",
   "nbconvert_exporter": "python",
   "pygments_lexer": "ipython3",
   "version": "3.8.8"
  }
 },
 "nbformat": 4,
 "nbformat_minor": 2
}
